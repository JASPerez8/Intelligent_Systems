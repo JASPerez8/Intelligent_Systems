{
 "cells": [
  {
   "cell_type": "markdown",
   "id": "afdba514",
   "metadata": {},
   "source": [
    "### Importing Libraries\n"
   ]
  },
  {
   "cell_type": "code",
   "execution_count": 1,
   "id": "44d0e89b",
   "metadata": {},
   "outputs": [],
   "source": [
    "import numpy as np\n",
    "import pandas as pd\n",
    "import tensorflow as tf"
   ]
  },
  {
   "cell_type": "markdown",
   "id": "a5b37138",
   "metadata": {},
   "source": [
    "# PART 1 Preprocessing"
   ]
  },
  {
   "cell_type": "markdown",
   "id": "c4adedf9",
   "metadata": {},
   "source": [
    "### Importing Dataset\n"
   ]
  },
  {
   "cell_type": "code",
   "execution_count": 2,
   "id": "640708bc",
   "metadata": {},
   "outputs": [],
   "source": [
    "dataset = pd.read_csv('diabetes_prediction_dataset.csv')"
   ]
  },
  {
   "cell_type": "code",
   "execution_count": 3,
   "id": "98fb4c4c",
   "metadata": {},
   "outputs": [
    {
     "data": {
      "text/html": [
       "<div>\n",
       "<style scoped>\n",
       "    .dataframe tbody tr th:only-of-type {\n",
       "        vertical-align: middle;\n",
       "    }\n",
       "\n",
       "    .dataframe tbody tr th {\n",
       "        vertical-align: top;\n",
       "    }\n",
       "\n",
       "    .dataframe thead th {\n",
       "        text-align: right;\n",
       "    }\n",
       "</style>\n",
       "<table border=\"1\" class=\"dataframe\">\n",
       "  <thead>\n",
       "    <tr style=\"text-align: right;\">\n",
       "      <th></th>\n",
       "      <th>gender</th>\n",
       "      <th>age</th>\n",
       "      <th>hypertension</th>\n",
       "      <th>heart_disease</th>\n",
       "      <th>smoking_history</th>\n",
       "      <th>bmi</th>\n",
       "      <th>HbA1c_level</th>\n",
       "      <th>blood_glucose_level</th>\n",
       "      <th>diabetes</th>\n",
       "    </tr>\n",
       "  </thead>\n",
       "  <tbody>\n",
       "    <tr>\n",
       "      <th>0</th>\n",
       "      <td>Female</td>\n",
       "      <td>80.0</td>\n",
       "      <td>0</td>\n",
       "      <td>1</td>\n",
       "      <td>never</td>\n",
       "      <td>25.19</td>\n",
       "      <td>6.6</td>\n",
       "      <td>140</td>\n",
       "      <td>0</td>\n",
       "    </tr>\n",
       "    <tr>\n",
       "      <th>1</th>\n",
       "      <td>Female</td>\n",
       "      <td>54.0</td>\n",
       "      <td>0</td>\n",
       "      <td>0</td>\n",
       "      <td>No Info</td>\n",
       "      <td>27.32</td>\n",
       "      <td>6.6</td>\n",
       "      <td>80</td>\n",
       "      <td>0</td>\n",
       "    </tr>\n",
       "    <tr>\n",
       "      <th>2</th>\n",
       "      <td>Male</td>\n",
       "      <td>28.0</td>\n",
       "      <td>0</td>\n",
       "      <td>0</td>\n",
       "      <td>never</td>\n",
       "      <td>27.32</td>\n",
       "      <td>5.7</td>\n",
       "      <td>158</td>\n",
       "      <td>0</td>\n",
       "    </tr>\n",
       "    <tr>\n",
       "      <th>3</th>\n",
       "      <td>Female</td>\n",
       "      <td>36.0</td>\n",
       "      <td>0</td>\n",
       "      <td>0</td>\n",
       "      <td>current</td>\n",
       "      <td>23.45</td>\n",
       "      <td>5.0</td>\n",
       "      <td>155</td>\n",
       "      <td>0</td>\n",
       "    </tr>\n",
       "    <tr>\n",
       "      <th>4</th>\n",
       "      <td>Male</td>\n",
       "      <td>76.0</td>\n",
       "      <td>1</td>\n",
       "      <td>1</td>\n",
       "      <td>current</td>\n",
       "      <td>20.14</td>\n",
       "      <td>4.8</td>\n",
       "      <td>155</td>\n",
       "      <td>0</td>\n",
       "    </tr>\n",
       "    <tr>\n",
       "      <th>...</th>\n",
       "      <td>...</td>\n",
       "      <td>...</td>\n",
       "      <td>...</td>\n",
       "      <td>...</td>\n",
       "      <td>...</td>\n",
       "      <td>...</td>\n",
       "      <td>...</td>\n",
       "      <td>...</td>\n",
       "      <td>...</td>\n",
       "    </tr>\n",
       "    <tr>\n",
       "      <th>99995</th>\n",
       "      <td>Female</td>\n",
       "      <td>80.0</td>\n",
       "      <td>0</td>\n",
       "      <td>0</td>\n",
       "      <td>No Info</td>\n",
       "      <td>27.32</td>\n",
       "      <td>6.2</td>\n",
       "      <td>90</td>\n",
       "      <td>0</td>\n",
       "    </tr>\n",
       "    <tr>\n",
       "      <th>99996</th>\n",
       "      <td>Female</td>\n",
       "      <td>2.0</td>\n",
       "      <td>0</td>\n",
       "      <td>0</td>\n",
       "      <td>No Info</td>\n",
       "      <td>17.37</td>\n",
       "      <td>6.5</td>\n",
       "      <td>100</td>\n",
       "      <td>0</td>\n",
       "    </tr>\n",
       "    <tr>\n",
       "      <th>99997</th>\n",
       "      <td>Male</td>\n",
       "      <td>66.0</td>\n",
       "      <td>0</td>\n",
       "      <td>0</td>\n",
       "      <td>former</td>\n",
       "      <td>27.83</td>\n",
       "      <td>5.7</td>\n",
       "      <td>155</td>\n",
       "      <td>0</td>\n",
       "    </tr>\n",
       "    <tr>\n",
       "      <th>99998</th>\n",
       "      <td>Female</td>\n",
       "      <td>24.0</td>\n",
       "      <td>0</td>\n",
       "      <td>0</td>\n",
       "      <td>never</td>\n",
       "      <td>35.42</td>\n",
       "      <td>4.0</td>\n",
       "      <td>100</td>\n",
       "      <td>0</td>\n",
       "    </tr>\n",
       "    <tr>\n",
       "      <th>99999</th>\n",
       "      <td>Female</td>\n",
       "      <td>57.0</td>\n",
       "      <td>0</td>\n",
       "      <td>0</td>\n",
       "      <td>current</td>\n",
       "      <td>22.43</td>\n",
       "      <td>6.6</td>\n",
       "      <td>90</td>\n",
       "      <td>0</td>\n",
       "    </tr>\n",
       "  </tbody>\n",
       "</table>\n",
       "<p>100000 rows × 9 columns</p>\n",
       "</div>"
      ],
      "text/plain": [
       "       gender   age  hypertension  heart_disease smoking_history    bmi  \\\n",
       "0      Female  80.0             0              1           never  25.19   \n",
       "1      Female  54.0             0              0         No Info  27.32   \n",
       "2        Male  28.0             0              0           never  27.32   \n",
       "3      Female  36.0             0              0         current  23.45   \n",
       "4        Male  76.0             1              1         current  20.14   \n",
       "...       ...   ...           ...            ...             ...    ...   \n",
       "99995  Female  80.0             0              0         No Info  27.32   \n",
       "99996  Female   2.0             0              0         No Info  17.37   \n",
       "99997    Male  66.0             0              0          former  27.83   \n",
       "99998  Female  24.0             0              0           never  35.42   \n",
       "99999  Female  57.0             0              0         current  22.43   \n",
       "\n",
       "       HbA1c_level  blood_glucose_level  diabetes  \n",
       "0              6.6                  140         0  \n",
       "1              6.6                   80         0  \n",
       "2              5.7                  158         0  \n",
       "3              5.0                  155         0  \n",
       "4              4.8                  155         0  \n",
       "...            ...                  ...       ...  \n",
       "99995          6.2                   90         0  \n",
       "99996          6.5                  100         0  \n",
       "99997          5.7                  155         0  \n",
       "99998          4.0                  100         0  \n",
       "99999          6.6                   90         0  \n",
       "\n",
       "[100000 rows x 9 columns]"
      ]
     },
     "execution_count": 3,
     "metadata": {},
     "output_type": "execute_result"
    }
   ],
   "source": [
    "dataset"
   ]
  },
  {
   "cell_type": "code",
   "execution_count": 4,
   "id": "a96b14b6",
   "metadata": {},
   "outputs": [],
   "source": [
    "X = dataset.iloc[:, 0:-1].values\n",
    "y = dataset.iloc[:, -1].values"
   ]
  },
  {
   "cell_type": "code",
   "execution_count": 5,
   "id": "12be39cb",
   "metadata": {},
   "outputs": [
    {
     "data": {
      "text/html": [
       "<div>\n",
       "<style scoped>\n",
       "    .dataframe tbody tr th:only-of-type {\n",
       "        vertical-align: middle;\n",
       "    }\n",
       "\n",
       "    .dataframe tbody tr th {\n",
       "        vertical-align: top;\n",
       "    }\n",
       "\n",
       "    .dataframe thead th {\n",
       "        text-align: right;\n",
       "    }\n",
       "</style>\n",
       "<table border=\"1\" class=\"dataframe\">\n",
       "  <thead>\n",
       "    <tr style=\"text-align: right;\">\n",
       "      <th></th>\n",
       "      <th>Gender</th>\n",
       "      <th>Age</th>\n",
       "      <th>Hypertension</th>\n",
       "      <th>Heart_Disease</th>\n",
       "      <th>Smoking_History</th>\n",
       "      <th>BMI</th>\n",
       "      <th>HbA1c_Level</th>\n",
       "      <th>Blood_Glucose_Level</th>\n",
       "    </tr>\n",
       "  </thead>\n",
       "  <tbody>\n",
       "    <tr>\n",
       "      <th>0</th>\n",
       "      <td>Female</td>\n",
       "      <td>80.0</td>\n",
       "      <td>0</td>\n",
       "      <td>1</td>\n",
       "      <td>never</td>\n",
       "      <td>25.19</td>\n",
       "      <td>6.6</td>\n",
       "      <td>140</td>\n",
       "    </tr>\n",
       "    <tr>\n",
       "      <th>1</th>\n",
       "      <td>Female</td>\n",
       "      <td>54.0</td>\n",
       "      <td>0</td>\n",
       "      <td>0</td>\n",
       "      <td>No Info</td>\n",
       "      <td>27.32</td>\n",
       "      <td>6.6</td>\n",
       "      <td>80</td>\n",
       "    </tr>\n",
       "    <tr>\n",
       "      <th>2</th>\n",
       "      <td>Male</td>\n",
       "      <td>28.0</td>\n",
       "      <td>0</td>\n",
       "      <td>0</td>\n",
       "      <td>never</td>\n",
       "      <td>27.32</td>\n",
       "      <td>5.7</td>\n",
       "      <td>158</td>\n",
       "    </tr>\n",
       "    <tr>\n",
       "      <th>3</th>\n",
       "      <td>Female</td>\n",
       "      <td>36.0</td>\n",
       "      <td>0</td>\n",
       "      <td>0</td>\n",
       "      <td>current</td>\n",
       "      <td>23.45</td>\n",
       "      <td>5.0</td>\n",
       "      <td>155</td>\n",
       "    </tr>\n",
       "    <tr>\n",
       "      <th>4</th>\n",
       "      <td>Male</td>\n",
       "      <td>76.0</td>\n",
       "      <td>1</td>\n",
       "      <td>1</td>\n",
       "      <td>current</td>\n",
       "      <td>20.14</td>\n",
       "      <td>4.8</td>\n",
       "      <td>155</td>\n",
       "    </tr>\n",
       "    <tr>\n",
       "      <th>...</th>\n",
       "      <td>...</td>\n",
       "      <td>...</td>\n",
       "      <td>...</td>\n",
       "      <td>...</td>\n",
       "      <td>...</td>\n",
       "      <td>...</td>\n",
       "      <td>...</td>\n",
       "      <td>...</td>\n",
       "    </tr>\n",
       "    <tr>\n",
       "      <th>99995</th>\n",
       "      <td>Female</td>\n",
       "      <td>80.0</td>\n",
       "      <td>0</td>\n",
       "      <td>0</td>\n",
       "      <td>No Info</td>\n",
       "      <td>27.32</td>\n",
       "      <td>6.2</td>\n",
       "      <td>90</td>\n",
       "    </tr>\n",
       "    <tr>\n",
       "      <th>99996</th>\n",
       "      <td>Female</td>\n",
       "      <td>2.0</td>\n",
       "      <td>0</td>\n",
       "      <td>0</td>\n",
       "      <td>No Info</td>\n",
       "      <td>17.37</td>\n",
       "      <td>6.5</td>\n",
       "      <td>100</td>\n",
       "    </tr>\n",
       "    <tr>\n",
       "      <th>99997</th>\n",
       "      <td>Male</td>\n",
       "      <td>66.0</td>\n",
       "      <td>0</td>\n",
       "      <td>0</td>\n",
       "      <td>former</td>\n",
       "      <td>27.83</td>\n",
       "      <td>5.7</td>\n",
       "      <td>155</td>\n",
       "    </tr>\n",
       "    <tr>\n",
       "      <th>99998</th>\n",
       "      <td>Female</td>\n",
       "      <td>24.0</td>\n",
       "      <td>0</td>\n",
       "      <td>0</td>\n",
       "      <td>never</td>\n",
       "      <td>35.42</td>\n",
       "      <td>4.0</td>\n",
       "      <td>100</td>\n",
       "    </tr>\n",
       "    <tr>\n",
       "      <th>99999</th>\n",
       "      <td>Female</td>\n",
       "      <td>57.0</td>\n",
       "      <td>0</td>\n",
       "      <td>0</td>\n",
       "      <td>current</td>\n",
       "      <td>22.43</td>\n",
       "      <td>6.6</td>\n",
       "      <td>90</td>\n",
       "    </tr>\n",
       "  </tbody>\n",
       "</table>\n",
       "<p>100000 rows × 8 columns</p>\n",
       "</div>"
      ],
      "text/plain": [
       "       Gender   Age Hypertension Heart_Disease Smoking_History    BMI  \\\n",
       "0      Female  80.0            0             1           never  25.19   \n",
       "1      Female  54.0            0             0         No Info  27.32   \n",
       "2        Male  28.0            0             0           never  27.32   \n",
       "3      Female  36.0            0             0         current  23.45   \n",
       "4        Male  76.0            1             1         current  20.14   \n",
       "...       ...   ...          ...           ...             ...    ...   \n",
       "99995  Female  80.0            0             0         No Info  27.32   \n",
       "99996  Female   2.0            0             0         No Info  17.37   \n",
       "99997    Male  66.0            0             0          former  27.83   \n",
       "99998  Female  24.0            0             0           never  35.42   \n",
       "99999  Female  57.0            0             0         current  22.43   \n",
       "\n",
       "      HbA1c_Level Blood_Glucose_Level  \n",
       "0             6.6                 140  \n",
       "1             6.6                  80  \n",
       "2             5.7                 158  \n",
       "3             5.0                 155  \n",
       "4             4.8                 155  \n",
       "...           ...                 ...  \n",
       "99995         6.2                  90  \n",
       "99996         6.5                 100  \n",
       "99997         5.7                 155  \n",
       "99998         4.0                 100  \n",
       "99999         6.6                  90  \n",
       "\n",
       "[100000 rows x 8 columns]"
      ]
     },
     "execution_count": 5,
     "metadata": {},
     "output_type": "execute_result"
    }
   ],
   "source": [
    "pd.DataFrame(X, columns = [\"Gender\",\"Age\",\"Hypertension\",\"Heart_Disease\",\"Smoking_History\",\"BMI\",\"HbA1c_Level\",\"Blood_Glucose_Level\"])"
   ]
  },
  {
   "cell_type": "code",
   "execution_count": 6,
   "id": "b2fb0a43",
   "metadata": {},
   "outputs": [
    {
     "data": {
      "text/html": [
       "<div>\n",
       "<style scoped>\n",
       "    .dataframe tbody tr th:only-of-type {\n",
       "        vertical-align: middle;\n",
       "    }\n",
       "\n",
       "    .dataframe tbody tr th {\n",
       "        vertical-align: top;\n",
       "    }\n",
       "\n",
       "    .dataframe thead th {\n",
       "        text-align: right;\n",
       "    }\n",
       "</style>\n",
       "<table border=\"1\" class=\"dataframe\">\n",
       "  <thead>\n",
       "    <tr style=\"text-align: right;\">\n",
       "      <th></th>\n",
       "      <th>Diabetes</th>\n",
       "    </tr>\n",
       "  </thead>\n",
       "  <tbody>\n",
       "    <tr>\n",
       "      <th>0</th>\n",
       "      <td>0</td>\n",
       "    </tr>\n",
       "    <tr>\n",
       "      <th>1</th>\n",
       "      <td>0</td>\n",
       "    </tr>\n",
       "    <tr>\n",
       "      <th>2</th>\n",
       "      <td>0</td>\n",
       "    </tr>\n",
       "    <tr>\n",
       "      <th>3</th>\n",
       "      <td>0</td>\n",
       "    </tr>\n",
       "    <tr>\n",
       "      <th>4</th>\n",
       "      <td>0</td>\n",
       "    </tr>\n",
       "    <tr>\n",
       "      <th>...</th>\n",
       "      <td>...</td>\n",
       "    </tr>\n",
       "    <tr>\n",
       "      <th>99995</th>\n",
       "      <td>0</td>\n",
       "    </tr>\n",
       "    <tr>\n",
       "      <th>99996</th>\n",
       "      <td>0</td>\n",
       "    </tr>\n",
       "    <tr>\n",
       "      <th>99997</th>\n",
       "      <td>0</td>\n",
       "    </tr>\n",
       "    <tr>\n",
       "      <th>99998</th>\n",
       "      <td>0</td>\n",
       "    </tr>\n",
       "    <tr>\n",
       "      <th>99999</th>\n",
       "      <td>0</td>\n",
       "    </tr>\n",
       "  </tbody>\n",
       "</table>\n",
       "<p>100000 rows × 1 columns</p>\n",
       "</div>"
      ],
      "text/plain": [
       "       Diabetes\n",
       "0             0\n",
       "1             0\n",
       "2             0\n",
       "3             0\n",
       "4             0\n",
       "...         ...\n",
       "99995         0\n",
       "99996         0\n",
       "99997         0\n",
       "99998         0\n",
       "99999         0\n",
       "\n",
       "[100000 rows x 1 columns]"
      ]
     },
     "execution_count": 6,
     "metadata": {},
     "output_type": "execute_result"
    }
   ],
   "source": [
    "pd.DataFrame(y, columns = [\"Diabetes\"])"
   ]
  },
  {
   "cell_type": "markdown",
   "id": "76dacd15",
   "metadata": {},
   "source": [
    "### Encoding Categorical Data"
   ]
  },
  {
   "cell_type": "markdown",
   "id": "32c91a79",
   "metadata": {},
   "source": [
    "Label Encoding the \"Gender\" column"
   ]
  },
  {
   "cell_type": "code",
   "execution_count": 7,
   "id": "bf8c4055",
   "metadata": {},
   "outputs": [],
   "source": [
    "from sklearn.preprocessing import LabelEncoder\n",
    "le = LabelEncoder()\n",
    "X[:, 0] = le.fit_transform(X[:, 0])"
   ]
  },
  {
   "cell_type": "code",
   "execution_count": 8,
   "id": "e227ad43",
   "metadata": {},
   "outputs": [
    {
     "name": "stdout",
     "output_type": "stream",
     "text": [
      "[[0 80.0 0 ... 25.19 6.6 140]\n",
      " [0 54.0 0 ... 27.32 6.6 80]\n",
      " [1 28.0 0 ... 27.32 5.7 158]\n",
      " ...\n",
      " [1 66.0 0 ... 27.83 5.7 155]\n",
      " [0 24.0 0 ... 35.42 4.0 100]\n",
      " [0 57.0 0 ... 22.43 6.6 90]]\n"
     ]
    }
   ],
   "source": [
    "print(X)"
   ]
  },
  {
   "cell_type": "markdown",
   "id": "2c355f3c",
   "metadata": {},
   "source": [
    "One Hot Encoding \"Smoking History\" Column "
   ]
  },
  {
   "cell_type": "code",
   "execution_count": 9,
   "id": "6718a587",
   "metadata": {},
   "outputs": [],
   "source": [
    "from sklearn.compose import ColumnTransformer\n",
    "from sklearn.preprocessing import OneHotEncoder\n",
    "ct = ColumnTransformer(transformers=[('encoder', OneHotEncoder(), [4])], remainder='passthrough')\n",
    "X = np.array(ct.fit_transform(X))"
   ]
  },
  {
   "cell_type": "markdown",
   "id": "a2945d25",
   "metadata": {},
   "source": [
    "### Splitting the dataset into the Training set and Test set"
   ]
  },
  {
   "cell_type": "code",
   "execution_count": 10,
   "id": "02b665f6",
   "metadata": {},
   "outputs": [],
   "source": [
    "from sklearn.model_selection import train_test_split\n",
    "X_train, X_test, y_train, y_test = train_test_split(X, y, test_size = 0.2, random_state = 0)"
   ]
  },
  {
   "cell_type": "markdown",
   "id": "747fcd31",
   "metadata": {},
   "source": [
    "### Feature Scaling\n"
   ]
  },
  {
   "cell_type": "code",
   "execution_count": 11,
   "id": "ec86dea4",
   "metadata": {},
   "outputs": [],
   "source": [
    "from sklearn.preprocessing import StandardScaler\n",
    "sc = StandardScaler()\n",
    "X_train = sc.fit_transform(X_train)\n",
    "X_test = sc.transform(X_test)"
   ]
  },
  {
   "cell_type": "markdown",
   "id": "4c09a2d5",
   "metadata": {},
   "source": [
    "## Part 2 - Building the ANN"
   ]
  },
  {
   "cell_type": "markdown",
   "id": "3b626e56",
   "metadata": {},
   "source": [
    "### Initializing the ANN"
   ]
  },
  {
   "cell_type": "code",
   "execution_count": 12,
   "id": "cb0697e6",
   "metadata": {},
   "outputs": [],
   "source": [
    "ann = tf.keras.models.Sequential()"
   ]
  },
  {
   "cell_type": "markdown",
   "id": "b09f4c65",
   "metadata": {},
   "source": [
    "### Adding the input layer and the first hidden layer\n"
   ]
  },
  {
   "cell_type": "code",
   "execution_count": 13,
   "id": "feb97a5e",
   "metadata": {},
   "outputs": [],
   "source": [
    "ann.add(tf.keras.layers.Dense(units=12, activation='relu'))"
   ]
  },
  {
   "cell_type": "markdown",
   "id": "e272899e",
   "metadata": {},
   "source": [
    "### Adding the second hidden layer\n"
   ]
  },
  {
   "cell_type": "code",
   "execution_count": 14,
   "id": "c5bb5a10",
   "metadata": {},
   "outputs": [],
   "source": [
    "ann.add(tf.keras.layers.Dense(units=6, activation='sigmoid'))\n",
    "ann.add(tf.keras.layers.Dense(units=6, activation='relu'))\n",
    "ann.add(tf.keras.layers.Dense(units=6, activation='sigmoid'))\n",
    "ann.add(tf.keras.layers.LeakyReLU(alpha=0.1))"
   ]
  },
  {
   "cell_type": "markdown",
   "id": "bd9dbba3",
   "metadata": {},
   "source": [
    "### Adding the output layer"
   ]
  },
  {
   "cell_type": "code",
   "execution_count": 15,
   "id": "4016ae8a",
   "metadata": {},
   "outputs": [],
   "source": [
    "ann.add(tf.keras.layers.Dense(units=1, activation='sigmoid'))"
   ]
  },
  {
   "cell_type": "markdown",
   "id": "6103d249",
   "metadata": {},
   "source": [
    "## Part 3 - Training the ANN"
   ]
  },
  {
   "cell_type": "markdown",
   "id": "60b15562",
   "metadata": {},
   "source": [
    "### Compiling the ANN"
   ]
  },
  {
   "cell_type": "code",
   "execution_count": 16,
   "id": "df4658ea",
   "metadata": {},
   "outputs": [],
   "source": [
    "ann.compile(optimizer = 'adamax', loss = 'binary_crossentropy', metrics = ['accuracy']) "
   ]
  },
  {
   "cell_type": "markdown",
   "id": "cb39b140",
   "metadata": {},
   "source": [
    "### Training the ANN on the Training set\n"
   ]
  },
  {
   "cell_type": "code",
   "execution_count": 17,
   "id": "4ecd840d",
   "metadata": {},
   "outputs": [
    {
     "name": "stdout",
     "output_type": "stream",
     "text": [
      "Epoch 1/64\n",
      "2500/2500 [==============================] - 3s 904us/step - loss: 0.2356 - accuracy: 0.9150\n",
      "Epoch 2/64\n",
      "2500/2500 [==============================] - 2s 869us/step - loss: 0.1523 - accuracy: 0.9231\n",
      "Epoch 3/64\n",
      "2500/2500 [==============================] - 2s 887us/step - loss: 0.1408 - accuracy: 0.9577\n",
      "Epoch 4/64\n",
      "2500/2500 [==============================] - 2s 894us/step - loss: 0.1355 - accuracy: 0.9579\n",
      "Epoch 5/64\n",
      "2500/2500 [==============================] - 2s 913us/step - loss: 0.1317 - accuracy: 0.9582\n",
      "Epoch 6/64\n",
      "2500/2500 [==============================] - 2s 865us/step - loss: 0.1289 - accuracy: 0.9583\n",
      "Epoch 7/64\n",
      "2500/2500 [==============================] - 2s 858us/step - loss: 0.1266 - accuracy: 0.9586\n",
      "Epoch 8/64\n",
      "2500/2500 [==============================] - 2s 910us/step - loss: 0.1248 - accuracy: 0.9591\n",
      "Epoch 9/64\n",
      "2500/2500 [==============================] - 2s 877us/step - loss: 0.1232 - accuracy: 0.9590\n",
      "Epoch 10/64\n",
      "2500/2500 [==============================] - 2s 868us/step - loss: 0.1220 - accuracy: 0.9593\n",
      "Epoch 11/64\n",
      "2500/2500 [==============================] - 2s 869us/step - loss: 0.1209 - accuracy: 0.9593\n",
      "Epoch 12/64\n",
      "2500/2500 [==============================] - 2s 853us/step - loss: 0.1199 - accuracy: 0.9592\n",
      "Epoch 13/64\n",
      "2500/2500 [==============================] - 2s 854us/step - loss: 0.1188 - accuracy: 0.9596\n",
      "Epoch 14/64\n",
      "2500/2500 [==============================] - 2s 857us/step - loss: 0.1179 - accuracy: 0.9597\n",
      "Epoch 15/64\n",
      "2500/2500 [==============================] - 2s 878us/step - loss: 0.1169 - accuracy: 0.9599\n",
      "Epoch 16/64\n",
      "2500/2500 [==============================] - 2s 883us/step - loss: 0.1160 - accuracy: 0.9598\n",
      "Epoch 17/64\n",
      "2500/2500 [==============================] - 2s 861us/step - loss: 0.1151 - accuracy: 0.9597\n",
      "Epoch 18/64\n",
      "2500/2500 [==============================] - 2s 861us/step - loss: 0.1143 - accuracy: 0.9599\n",
      "Epoch 19/64\n",
      "2500/2500 [==============================] - 2s 871us/step - loss: 0.1137 - accuracy: 0.9600\n",
      "Epoch 20/64\n",
      "2500/2500 [==============================] - 2s 885us/step - loss: 0.1132 - accuracy: 0.9600\n",
      "Epoch 21/64\n",
      "2500/2500 [==============================] - 2s 889us/step - loss: 0.1125 - accuracy: 0.9603\n",
      "Epoch 22/64\n",
      "2500/2500 [==============================] - 2s 894us/step - loss: 0.1121 - accuracy: 0.9601\n",
      "Epoch 23/64\n",
      "2500/2500 [==============================] - 2s 873us/step - loss: 0.1115 - accuracy: 0.9608\n",
      "Epoch 24/64\n",
      "2500/2500 [==============================] - 2s 857us/step - loss: 0.1110 - accuracy: 0.9603\n",
      "Epoch 25/64\n",
      "2500/2500 [==============================] - 2s 852us/step - loss: 0.1106 - accuracy: 0.9605\n",
      "Epoch 26/64\n",
      "2500/2500 [==============================] - 2s 859us/step - loss: 0.1100 - accuracy: 0.9604\n",
      "Epoch 27/64\n",
      "2500/2500 [==============================] - 2s 870us/step - loss: 0.1096 - accuracy: 0.9605\n",
      "Epoch 28/64\n",
      "2500/2500 [==============================] - 2s 872us/step - loss: 0.1091 - accuracy: 0.9606\n",
      "Epoch 29/64\n",
      "2500/2500 [==============================] - 2s 865us/step - loss: 0.1087 - accuracy: 0.9607\n",
      "Epoch 30/64\n",
      "2500/2500 [==============================] - 2s 911us/step - loss: 0.1082 - accuracy: 0.9609\n",
      "Epoch 31/64\n",
      "2500/2500 [==============================] - 2s 880us/step - loss: 0.1078 - accuracy: 0.9610\n",
      "Epoch 32/64\n",
      "2500/2500 [==============================] - 2s 888us/step - loss: 0.1072 - accuracy: 0.9613\n",
      "Epoch 33/64\n",
      "2500/2500 [==============================] - 2s 867us/step - loss: 0.1067 - accuracy: 0.9613\n",
      "Epoch 34/64\n",
      "2500/2500 [==============================] - 2s 875us/step - loss: 0.1061 - accuracy: 0.9617\n",
      "Epoch 35/64\n",
      "2500/2500 [==============================] - 2s 886us/step - loss: 0.1055 - accuracy: 0.9618\n",
      "Epoch 36/64\n",
      "2500/2500 [==============================] - 2s 869us/step - loss: 0.1049 - accuracy: 0.9622\n",
      "Epoch 37/64\n",
      "2500/2500 [==============================] - 2s 919us/step - loss: 0.1042 - accuracy: 0.9626\n",
      "Epoch 38/64\n",
      "2500/2500 [==============================] - 2s 880us/step - loss: 0.1035 - accuracy: 0.9631\n",
      "Epoch 39/64\n",
      "2500/2500 [==============================] - 2s 864us/step - loss: 0.1030 - accuracy: 0.9632\n",
      "Epoch 40/64\n",
      "2500/2500 [==============================] - 2s 859us/step - loss: 0.1026 - accuracy: 0.9634\n",
      "Epoch 41/64\n",
      "2500/2500 [==============================] - 2s 859us/step - loss: 0.1022 - accuracy: 0.9636\n",
      "Epoch 42/64\n",
      "2500/2500 [==============================] - 2s 864us/step - loss: 0.1018 - accuracy: 0.9640\n",
      "Epoch 43/64\n",
      "2500/2500 [==============================] - 2s 893us/step - loss: 0.1015 - accuracy: 0.9638\n",
      "Epoch 44/64\n",
      "2500/2500 [==============================] - 2s 919us/step - loss: 0.1012 - accuracy: 0.9643\n",
      "Epoch 45/64\n",
      "2500/2500 [==============================] - 2s 936us/step - loss: 0.1010 - accuracy: 0.9643\n",
      "Epoch 46/64\n",
      "2500/2500 [==============================] - 2s 871us/step - loss: 0.1007 - accuracy: 0.9645\n",
      "Epoch 47/64\n",
      "2500/2500 [==============================] - 2s 866us/step - loss: 0.1004 - accuracy: 0.9647\n",
      "Epoch 48/64\n",
      "2500/2500 [==============================] - 2s 859us/step - loss: 0.1001 - accuracy: 0.9649\n",
      "Epoch 49/64\n",
      "2500/2500 [==============================] - 2s 871us/step - loss: 0.0998 - accuracy: 0.9649\n",
      "Epoch 50/64\n",
      "2500/2500 [==============================] - 2s 883us/step - loss: 0.0997 - accuracy: 0.9650\n",
      "Epoch 51/64\n",
      "2500/2500 [==============================] - 2s 897us/step - loss: 0.0994 - accuracy: 0.9649\n",
      "Epoch 52/64\n",
      "2500/2500 [==============================] - 2s 929us/step - loss: 0.0992 - accuracy: 0.9652\n",
      "Epoch 53/64\n",
      "2500/2500 [==============================] - 2s 881us/step - loss: 0.0989 - accuracy: 0.9650\n",
      "Epoch 54/64\n",
      "2500/2500 [==============================] - 2s 879us/step - loss: 0.0988 - accuracy: 0.9653\n",
      "Epoch 55/64\n",
      "2500/2500 [==============================] - 2s 883us/step - loss: 0.0987 - accuracy: 0.9653\n",
      "Epoch 56/64\n",
      "2500/2500 [==============================] - 2s 897us/step - loss: 0.0983 - accuracy: 0.9654\n",
      "Epoch 57/64\n",
      "2500/2500 [==============================] - 2s 882us/step - loss: 0.0981 - accuracy: 0.9658\n",
      "Epoch 58/64\n",
      "2500/2500 [==============================] - 2s 890us/step - loss: 0.0980 - accuracy: 0.9657\n",
      "Epoch 59/64\n",
      "2500/2500 [==============================] - 2s 914us/step - loss: 0.0977 - accuracy: 0.9657\n",
      "Epoch 60/64\n",
      "2500/2500 [==============================] - 2s 870us/step - loss: 0.0976 - accuracy: 0.9658\n",
      "Epoch 61/64\n",
      "2500/2500 [==============================] - 2s 865us/step - loss: 0.0973 - accuracy: 0.9657\n",
      "Epoch 62/64\n",
      "2500/2500 [==============================] - 2s 870us/step - loss: 0.0972 - accuracy: 0.9659\n",
      "Epoch 63/64\n",
      "2500/2500 [==============================] - 2s 889us/step - loss: 0.0969 - accuracy: 0.9662\n",
      "Epoch 64/64\n",
      "2500/2500 [==============================] - 2s 886us/step - loss: 0.0967 - accuracy: 0.9662\n"
     ]
    },
    {
     "data": {
      "text/plain": [
       "<keras.src.callbacks.History at 0x1c410f94290>"
      ]
     },
     "execution_count": 17,
     "metadata": {},
     "output_type": "execute_result"
    }
   ],
   "source": [
    "ann.fit(X_train, y_train, batch_size = 32, epochs = 64)"
   ]
  },
  {
   "cell_type": "markdown",
   "id": "d2c47d62",
   "metadata": {},
   "source": [
    "## Part 4 - Making the predictions and evaluating the model"
   ]
  },
  {
   "cell_type": "markdown",
   "id": "25b78163",
   "metadata": {},
   "source": [
    "### Predicting the Test set results"
   ]
  },
  {
   "cell_type": "code",
   "execution_count": 18,
   "id": "1c697498",
   "metadata": {},
   "outputs": [
    {
     "name": "stdout",
     "output_type": "stream",
     "text": [
      "625/625 [==============================] - 0s 639us/step\n",
      "[[0 0]\n",
      " [0 0]\n",
      " [0 0]\n",
      " ...\n",
      " [0 0]\n",
      " [0 0]\n",
      " [0 0]]\n"
     ]
    }
   ],
   "source": [
    "y_pred = ann.predict(X_test)\n",
    "y_pred = (y_pred > 0.5)\n",
    "print(np.concatenate((y_pred.reshape(len(y_pred),1), y_test.reshape(len(y_test),1)),1))"
   ]
  },
  {
   "cell_type": "markdown",
   "id": "e9a693b8",
   "metadata": {},
   "source": [
    "### Making the Confusion Matrix"
   ]
  },
  {
   "cell_type": "code",
   "execution_count": 19,
   "id": "ac8bb408",
   "metadata": {},
   "outputs": [
    {
     "name": "stdout",
     "output_type": "stream",
     "text": [
      "Confusion Matrix:\n",
      "[[18225    72]\n",
      " [  601  1102]]\n",
      "\n",
      "Accuracy: 0.96635\n",
      "Specificity: 0.9960649286768323\n",
      "Sensitivity (Recall): 0.6470933646506165\n"
     ]
    }
   ],
   "source": [
    "from sklearn.metrics import confusion_matrix, accuracy_score\n",
    "import matplotlib.pyplot as plt\n",
    "\n",
    "conf_matrix = confusion_matrix(y_test, y_pred)\n",
    "\n",
    "print(\"Confusion Matrix:\")\n",
    "print(conf_matrix)\n",
    "\n",
    "# accuracy of model\n",
    "accuracy = accuracy_score(y_test, y_pred)\n",
    "\n",
    "# specificity (True Negative Rate) of model\n",
    "tn, fp, fn, tp = conf_matrix.ravel()\n",
    "specificity = tn / (tn + fp)\n",
    "\n",
    "# Sensitivity (Recall) of model\n",
    "sensitivity = tp / (tp + fn)\n",
    "\n",
    "# Print the metrics\n",
    "print(\"\\nAccuracy:\", accuracy)\n",
    "print(\"Specificity:\", specificity)\n",
    "print(\"Sensitivity (Recall):\", sensitivity)\n",
    "\n",
    "\n"
   ]
  },
  {
   "cell_type": "code",
   "execution_count": 20,
   "id": "49f36a29",
   "metadata": {},
   "outputs": [
    {
     "data": {
      "image/png": "[encoded data removed]",
      "text/plain": [
       "<Figure size 750x750 with 1 Axes>"
      ]
     },
     "metadata": {},
     "output_type": "display_data"
    }
   ],
   "source": [
    "fig, ax = plt.subplots(figsize=(7.5, 7.5))\n",
    "ax.matshow(conf_matrix, cmap=plt.cm.Blues, alpha=0.3)\n",
    "for i in range(conf_matrix.shape[0]):\n",
    "    for j in range(conf_matrix.shape[1]):\n",
    "        ax.text(x=j, y=i,s=conf_matrix[i, j], va='center', ha='center', size='xx-large')\n",
    " \n",
    "plt.xlabel('Predictions', fontsize=18)\n",
    "plt.ylabel('Actuals', fontsize=18)\n",
    "plt.title('Confusion Matrix', fontsize=18)\n",
    "plt.show()"
   ]
  }
 ],
 "metadata": {
  "kernelspec": {
   "display_name": "Python 3 (ipykernel)",
   "language": "python",
   "name": "python3"
  },
  "language_info": {
   "codemirror_mode": {
    "name": "ipython",
    "version": 3
   },
   "file_extension": ".py",
   "mimetype": "text/x-python",
   "name": "python",
   "nbconvert_exporter": "python",
   "pygments_lexer": "ipython3",
   "version": "3.11.4"
  }
 },
 "nbformat": 4,
 "nbformat_minor": 5
}
